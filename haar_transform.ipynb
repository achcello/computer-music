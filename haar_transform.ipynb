{
 "cells": [
  {
   "cell_type": "markdown",
   "metadata": {},
   "source": [
    "# Haar Wavelet Explication"
   ]
  },
  {
   "cell_type": "code",
   "execution_count": null,
   "metadata": {},
   "outputs": [],
   "source": [
    "import matplotlib.pyplot as plt\n",
    "import numpy as np\n",
    "%matplotlib inline"
   ]
  },
  {
   "cell_type": "markdown",
   "metadata": {},
   "source": [
    "**Example 2.1.A** Find the first level Haar transform of $f = (2,2,2,4,4,4)$.\n",
    "A graph of $f$:"
   ]
  },
  {
   "cell_type": "code",
   "execution_count": null,
   "metadata": {},
   "outputs": [],
   "source": [
    "f = [2,2,2,4,4,4]\n",
    "n = range(0,len(f))\n",
    "plt.plot(n,f,\"bo\")"
   ]
  },
  {
   "cell_type": "markdown",
   "metadata": {},
   "source": [
    "A signal can be decomposed into averages and perturbations, much like the average velocities and deviations of turbulent flow.\n",
    "\n",
    "![steady.png](https://achcello.github.io/steady.png)\n",
    "\n",
    "The first component of the decomposition is generally referred to as the averages or trend, $\\mathbf{a}^n$ where $n$ is the number of transforms done on the signal. $\\mathbf{a}^1$ is the *first trend*. Similarly, $\\mathbf{d}^1$ would be the *first fluctuation*.\n",
    "\n",
    "$$a_m = \\frac{f_{2m-1} + f_{2m}}{\\sqrt{2}}$$\n",
    "$$d_m = \\frac{f_{2m-1} - f_{2m}}{\\sqrt{2}}$$"
   ]
  },
  {
   "cell_type": "code",
   "execution_count": null,
   "metadata": {},
   "outputs": [],
   "source": [
    "# here we calculate the first trend and perturbation of the example sequence\n",
    "\n",
    "def trend(signal):\n",
    "    output = []\n",
    "    if len(signal) % 2 != 0:\n",
    "        signal.append(0)\n",
    "    for index in range(len(signal) // 2):\n",
    "        output.append( (signal[2*index] + signal[2*index + 1]) / np.sqrt(2) )\n",
    "    return output\n",
    "\n",
    "print(f)\n",
    "print(trend(f))\n",
    "\n",
    "def perturb(signal):\n",
    "    output = []\n",
    "    if len(signal) % 2 != 0:\n",
    "        signal.append(0)\n",
    "    for index in range(len(signal) // 2):\n",
    "        output.append( (signal[2*index] - signal[2*index + 1]) / np.sqrt(2) )\n",
    "    return output\n",
    "\n",
    "print(perturb(f))"
   ]
  },
  {
   "cell_type": "markdown",
   "metadata": {},
   "source": [
    "Given that the first level Haar transform is $\\mathbf{f} \\rightarrow ( \\mathbf{a}^1 |\\, \\mathbf{d}^1)$, our answer is"
   ]
  },
  {
   "cell_type": "code",
   "execution_count": null,
   "metadata": {
    "scrolled": true
   },
   "outputs": [],
   "source": [
    "H_1 = trend(f) + perturb(f)\n",
    "print(H_1)\n",
    "plt.plot(range(3), trend(f),\"bo\")\n",
    "plt.plot(range(3), perturb(f),\"ro\")"
   ]
  },
  {
   "cell_type": "markdown",
   "metadata": {},
   "source": [
    "### Compression\n",
    "\n",
    "We can try something a little bit more interesting by compressing a signal.\n",
    "\n",
    "Take, for example, the signal defined by this function:\n",
    "\n",
    "$$g(x)=20x^2(1-x)^4 \\cos(12 \\pi x)$$\n",
    "\n",
    "We need to define the inverse tranform so we can reconstruct a signal."
   ]
  },
  {
   "cell_type": "code",
   "execution_count": null,
   "metadata": {},
   "outputs": [],
   "source": [
    "# inverse for the trend\n",
    "def trendInverse(signal):\n",
    "    output = []\n",
    "    for value in signal:\n",
    "        output.append(value/np.sqrt(2))\n",
    "        output.append(value/np.sqrt(2))\n",
    "    return output\n",
    "\n",
    "# inverse for the perturbations\n",
    "def perturbInverse(signal):\n",
    "    output = []\n",
    "    for value in signal:\n",
    "        output.append(value/np.sqrt(2))\n",
    "        output.append(value/np.sqrt(2))\n",
    "    return output\n",
    "\n",
    "def inverseTransform(trend, perturb):\n",
    "    return [sum(x) for x in zip(trend, perturb)]"
   ]
  },
  {
   "cell_type": "code",
   "execution_count": null,
   "metadata": {
    "scrolled": true
   },
   "outputs": [],
   "source": [
    "# define the signal\n",
    "\n",
    "def g(x):\n",
    "    return 20 * x**2 * (1-x)**4 * np.cos(12 * np.pi * x)\n",
    "\n",
    "xspace = np.linspace(0,1,512)\n",
    "gpoints = g(xspace)\n",
    "gl = gpoints.tolist()\n",
    "plt.ylim(-1,1)\n",
    "plt.plot(xspace,gpoints,\"b-\")"
   ]
  },
  {
   "cell_type": "code",
   "execution_count": null,
   "metadata": {},
   "outputs": [],
   "source": [
    "# we have a space of 2^10 samples to work with, so we can perform up to a\n",
    "# 10-level Haar transform. Let's do one level and see how it works.\n",
    "\n",
    "# First we'll see if we can recover the signal.\n",
    "trend_g = trend(gl)\n",
    "perturb_g = perturb(gl)\n",
    "plt.title(\"Transformed\")\n",
    "plt.ylim(-1,1)\n",
    "plt.plot(np.linspace(0,1,256),trend_g,\"b.\",np.linspace(0,1,256),perturb_g,\"r.\")"
   ]
  },
  {
   "cell_type": "code",
   "execution_count": null,
   "metadata": {},
   "outputs": [],
   "source": [
    "recovered = inverseTransform(trendInverse(trend_g), perturbInverse(perturb_g))\n",
    "plt.title(\"Recovered Signal\")\n",
    "plt.ylim(-1,1)\n",
    "plt.plot(np.linspace(0,1,512),recovered,\"b-\")"
   ]
  },
  {
   "cell_type": "markdown",
   "metadata": {},
   "source": [
    "The actual compression happens by setting values in the transform to zero when under a certain threshold. Let's set all the values in the perturbation to zero."
   ]
  },
  {
   "cell_type": "code",
   "execution_count": null,
   "metadata": {},
   "outputs": [],
   "source": [
    "perturb_g = [0 for _ in perturb_g] # so now we don't need to store/transmit these\n",
    "compressed = inverseTransform(trendInverse(trend_g), perturbInverse(perturb_g))\n",
    "plt.title(\"Compressed Signal\")\n",
    "plt.ylim(-1,1)\n",
    "plt.plot(np.linspace(0,1,512),compressed,\"b-\")"
   ]
  },
  {
   "cell_type": "markdown",
   "metadata": {},
   "source": [
    "This signal looks the same, but it requires only half the amount of data to store or transmit. Further compression can be acheived by performing higher levels of the transform and being more intelligent about which values to supress."
   ]
  }
 ],
 "metadata": {
  "kernelspec": {
   "display_name": "Python 3",
   "language": "python",
   "name": "python3"
  },
  "language_info": {
   "codemirror_mode": {
    "name": "ipython",
    "version": 3
   },
   "file_extension": ".py",
   "mimetype": "text/x-python",
   "name": "python",
   "nbconvert_exporter": "python",
   "pygments_lexer": "ipython3",
   "version": "3.6.4"
  }
 },
 "nbformat": 4,
 "nbformat_minor": 2
}
